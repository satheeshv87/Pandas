{
 "cells": [
  {
   "cell_type": "markdown",
   "metadata": {},
   "source": [
    "# Import Data"
   ]
  },
  {
   "cell_type": "code",
   "execution_count": null,
   "metadata": {},
   "outputs": [],
   "source": [
    "# Dependencies and Setup\n",
    "import pandas as pd\n",
    "import numpy as np\n",
    "\n",
    "# File to Load\n",
    "school_file = \"../UTAMCB201904DATA3/04-Pandas/Homework/Instructions/PyCitySchools/Resources/schools_complete.csv\"\n",
    "student_file = \"../UTAMCB201904DATA3/04-Pandas/Homework/Instructions/PyCitySchools/Resources/students_complete.csv\"\n",
    "\n",
    "# Read School and Student Data File and store into Pandas Data Frames\n",
    "school_data = pd.read_csv(school_file)\n",
    "student_data = pd.read_csv(student_file)\n",
    "\n",
    "# Combine the data into a single dataset\n",
    "mydata = pd.merge(student_data, school_data, how=\"left\", on=[\"school_name\", \"school_name\"])\n",
    "\n",
    "# Calc and Add Per Student Budget column\n",
    "mydata[\"Per Student Budget\"] = mydata[\"budget\"]/mydata[\"size\"]\n"
   ]
  },
  {
   "cell_type": "markdown",
   "metadata": {},
   "source": [
    "# District Summary"
   ]
  },
  {
   "cell_type": "code",
   "execution_count": null,
   "metadata": {},
   "outputs": [],
   "source": [
    "# Calc District Summary\n",
    "TtlSchoolCnt = school_data[\"school_name\"].count()\n",
    "TtlStudentsCnt = student_data[\"student_name\"].count()\n",
    "TtlBudget = school_data[\"budget\"].sum()\n",
    "AvgMathScore = student_data[\"math_score\"].mean()\n",
    "AvgReadScore = student_data[\"reading_score\"].mean()\n",
    "PcntPassMath = (student_data[student_data.math_score >= 70][\"math_score\"].count() /TtlStudentsCnt) *100\n",
    "PcntPassReading = (student_data[student_data.reading_score >= 70][\"reading_score\"].count() /TtlStudentsCnt) *100\n",
    "OverallPassRate = (PcntPassMath + PcntPassReading)/2\n",
    "\n",
    "# Create a dataframe with results\n",
    "TtlResults = pd.DataFrame({\n",
    "    \"Total Schools\": [TtlSchoolCnt],\n",
    "    \"Total Students\": [TtlStudentsCnt],\n",
    "    \"Total Budget\": [TtlBudget],\n",
    "    \"Average Math Score\": [AvgMathScore],\n",
    "    \"Average Reading Score\": [AvgReadScore],\n",
    "    \"% Passing Math\": [PcntPassMath],\n",
    "    \"% Passing Reading\": [PcntPassReading],\n",
    "    \"% Overall Passing Rate\": [OverallPassRate]\n",
    "})\n",
    "\n",
    "# Format columns\n",
    "TtlResults[\"Total Students\"] = TtlResults[\"Total Students\"].map(\"{:,}\".format)\n",
    "TtlResults[\"Total Budget\"] = TtlResults[\"Total Budget\"].map(\"${:,.2f}\".format)\n",
    "TtlResults"
   ]
  },
  {
   "cell_type": "markdown",
   "metadata": {},
   "source": [
    "# School Summary"
   ]
  },
  {
   "cell_type": "code",
   "execution_count": null,
   "metadata": {},
   "outputs": [],
   "source": [
    "# Calc School Summary\n",
    "# [Dateframe 1] Group data by school name and get count, averages etc\n",
    "schSummary = mydata.groupby(\n",
    "   ['school_name']\n",
    ").agg(\n",
    "    {\n",
    "         'Student ID':'count',\n",
    "         'budget': 'first',\n",
    "         'reading_score': 'mean',\n",
    "         'math_score': 'mean',\n",
    "         'Per Student Budget': 'first'\n",
    "    }\n",
    ")\n",
    "\n",
    "# Format columns\n",
    "schSummary[\"Per Student Budget\"] = schSummary[\"Per Student Budget\"].map(\"${:,.2f}\".format)\n",
    "schSummary[\"budget\"] = schSummary[\"budget\"].map(\"${:,.2f}\".format)\n",
    "\n",
    "# [Series 1] Calc Percent passed in math and create a series with school name and percent passed\n",
    "schMathPass = mydata[mydata['math_score']>=70].groupby(['school_name']).count()\n",
    "schMathPass = schMathPass[\"math_score\"]\n",
    "\n",
    "# [Series 2] Calc Percent passed in reading and create a series with school name and percent passed\n",
    "schReadPass = mydata[mydata['reading_score']>=70].groupby(['school_name']).count()\n",
    "schReadPass = schReadPass[\"reading_score\"]\n",
    "\n",
    "# Combine [Dataframe 1], [Series 1] and [Series 2] into one Dataframe\n",
    "SummyAndMath = pd.merge(schSummary, schMathPass, on='school_name')\n",
    "SummyAndMathAndRead = pd.merge(SummyAndMath, schReadPass, on='school_name')\n",
    "SummyAndMathAndRead['math_score_y'] = (SummyAndMathAndRead[\"math_score_y\"]/SummyAndMathAndRead[\"Student ID\"]) *100\n",
    "SummyAndMathAndRead['reading_score_y'] = (SummyAndMathAndRead[\"reading_score_y\"]/SummyAndMathAndRead[\"Student ID\"]) * 100\n",
    "\n",
    "# Rename columns\n",
    "SummyAndMathAndRead.columns = ['Total Students','Total School Budget','Average Reading Score',\n",
    "                     'Average Math Score','Per Student Budget','% Passing Math', '% Passing Reading']\n",
    "\n",
    "# Calc overall pass rate\n",
    "SummyAndMathAndRead['% Overall Passing Rate'] = (SummyAndMathAndRead['% Passing Math'] + SummyAndMathAndRead['% Passing Reading'])/2\n",
    "\n",
    "# Create a data frame with schoolname and type and then add type to results dataframe\n",
    "schtype = school_data[['school_name','type']]\n",
    "schSummyResults = pd.merge(SummyAndMathAndRead, schtype, on='school_name')\n",
    "\n",
    "# Set school_name as index\n",
    "schSummyResults = schSummyResults.set_index('school_name')\n",
    "\n",
    "# Rename column\n",
    "schSummyResults = schSummyResults.rename(columns={'type':'School Type'})\n",
    "\n",
    "# Arrange columns\n",
    "schSummyResults = schSummyResults[['School Type','Total Students','Total School Budget','Average Reading Score',\n",
    "                     'Average Math Score','Per Student Budget','% Passing Math', '% Passing Reading', '% Overall Passing Rate']]\n",
    "# Remove index name\n",
    "schSummyResults.index.name=\"\"\n"
   ]
  },
  {
   "cell_type": "markdown",
   "metadata": {},
   "source": [
    "# Top Performing Schools (By Overall Passing Rate)"
   ]
  },
  {
   "cell_type": "code",
   "execution_count": null,
   "metadata": {},
   "outputs": [],
   "source": [
    "#Top Performing Schools (By Passing Rate)\n",
    "schSummyResults.sort_values(by='% Overall Passing Rate', ascending=False)[:5]"
   ]
  },
  {
   "cell_type": "markdown",
   "metadata": {},
   "source": [
    "# Bottom Performing Schools (By Overall Passing Rate)"
   ]
  },
  {
   "cell_type": "code",
   "execution_count": null,
   "metadata": {},
   "outputs": [],
   "source": [
    "# Bottom Performing Schools (By Passing Rate)\n",
    "schSummyResults.sort_values(by='% Overall Passing Rate', ascending=True)[:5]"
   ]
  },
  {
   "cell_type": "markdown",
   "metadata": {},
   "source": [
    "# Math Scores by Grade"
   ]
  },
  {
   "cell_type": "code",
   "execution_count": null,
   "metadata": {},
   "outputs": [],
   "source": [
    "# Group by School Name and Grage and calculate math score average\n",
    "mathSummary = student_data.groupby(['school_name','grade']).agg({'math_score':'mean'})\n",
    "\n",
    "# Change rows into columns\n",
    "mathSummary = mathSummary.unstack()\n",
    "\n",
    "# Convert to Dataframe\n",
    "mathSummary = pd.DataFrame(mathSummary.to_records())\n",
    "\n",
    "# Set index\n",
    "mathSummary = mathSummary.set_index(\"school_name\")\n",
    "\n",
    "# Empty index name\n",
    "mathSummary.index.name=\"\"\n",
    "\n",
    "# Rename columns\n",
    "mathSummary = mathSummary.rename(columns={\n",
    "    \"('math_score', '10th')\":'10th',\n",
    "    \"('math_score', '11th')\":'11th',\n",
    "    \"('math_score', '12th')\":'12th',\n",
    "    \"('math_score', '9th')\":'9th'\n",
    "})\n",
    "\n",
    "# Rearrange columns\n",
    "mathSummary = mathSummary[['9th','10th','11th', '12th']]\n",
    "mathSummary"
   ]
  },
  {
   "cell_type": "markdown",
   "metadata": {},
   "source": [
    "# Reading Score by Grade"
   ]
  },
  {
   "cell_type": "code",
   "execution_count": null,
   "metadata": {},
   "outputs": [],
   "source": [
    "# Group by School Name and Grage and calculate reading score average\n",
    "readSummary = student_data.groupby(['school_name','grade']).agg({'reading_score':'mean'})\n",
    "\n",
    "# Change rows into columns\n",
    "readSummary = readSummary.unstack()\n",
    "\n",
    "# Convert to Dataframe\n",
    "readSummary = pd.DataFrame(readSummary.to_records())\n",
    "\n",
    "# Set index\n",
    "readSummary = readSummary.set_index(\"school_name\")\n",
    "\n",
    "# Empty index name\n",
    "readSummary.index.name=\"\"\n",
    "\n",
    "# Rename columns\n",
    "readSummary = readSummary.rename(columns={\n",
    "    \"('reading_score', '10th')\":'10th',\n",
    "    \"('reading_score', '11th')\":'11th',\n",
    "    \"('reading_score', '12th')\":'12th',\n",
    "    \"('reading_score', '9th')\":'9th'\n",
    "})\n",
    "\n",
    "# Rearrange columns\n",
    "readSummary = readSummary[['9th','10th','11th', '12th']]\n",
    "readSummary"
   ]
  },
  {
   "cell_type": "markdown",
   "metadata": {},
   "source": [
    "# Scores by School Spending"
   ]
  },
  {
   "cell_type": "code",
   "execution_count": null,
   "metadata": {},
   "outputs": [],
   "source": [
    "# Create bins and group names\n",
    "spending_bins = [0, 585, 615, 645, 675]\n",
    "group_names = [\"<$585\", \"$585-615\", \"$615-645\", \"$645-675\"]\n",
    "\n",
    "# Add bin colum to the dataset\n",
    "mydata[\"Bins\"] = pd.cut(mydata[\"Per Student Budget\"], spending_bins, labels=group_names)\n",
    "\n",
    "# [Dataframe 1]Group by bin and calculate metrics\n",
    "binSummary = mydata.groupby('Bins').agg({\n",
    "    'Student ID':'count',\n",
    "    'math_score':'mean',\n",
    "    'reading_score':'mean'\n",
    "})\n",
    "\n",
    "# [Series 1] Calc Percent passed in math and create a series with school name and percent passed\n",
    "binschMathPass = mydata[mydata['math_score']>=70].groupby(['Bins']).count()\n",
    "binschMathPass = binschMathPass[\"math_score\"]\n",
    "\n",
    "# [Series 1] Calc Percent passed in math and create a series with school name and percent passed\n",
    "binschReadPass = mydata[mydata['reading_score']>=70].groupby(['Bins']).count()\n",
    "binschReadPass = binschReadPass[\"reading_score\"]\n",
    "\n",
    "# Combine [Dataframe 1], [Series 1] and [Series 2] into one Dataframe\n",
    "binresults = pd.merge(binSummary, binschMathPass, on='Bins')\n",
    "binSummyResults = pd.merge(binresults, binschReadPass, on='Bins')\n",
    "binSummyResults['math_score_y'] = (binSummyResults[\"math_score_y\"]/binSummyResults[\"Student ID\"]) *100\n",
    "binSummyResults['reading_score_y'] = (binSummyResults[\"reading_score_y\"]/binSummyResults[\"Student ID\"]) * 100\n",
    "\n",
    "# Rename columns and calculate overall pass rate\n",
    "binSummyResults.columns = ['Student ID','Average Math Score',\n",
    "                     'Average Reading Score','% Passing Math', '% Passing Reading']\n",
    "binSummyResults['% Overall Passing Rate'] = (binSummyResults['% Passing Math'] + binSummyResults['% Passing Reading'])/2\n",
    "\n",
    "# Set index name\n",
    "binSummyResults.index.name=\"Spending Ranges (Per Student)\"\n",
    "\n",
    "# Rearrange columns\n",
    "binSummyResults = binSummyResults[['Average Math Score','Average Reading Score','% Passing Math', '% Passing Reading', '% Overall Passing Rate']]\n",
    "binSummyResults\n"
   ]
  },
  {
   "cell_type": "markdown",
   "metadata": {},
   "source": [
    "# Scores by School Size"
   ]
  },
  {
   "cell_type": "code",
   "execution_count": null,
   "metadata": {},
   "outputs": [],
   "source": [
    "# Create bins and groups\n",
    "size_bins = [0, 1000, 2000, 5000]\n",
    "size_group_names = [\"Small (<1000)\", \"Medium (1000-2000)\", \"Large (2000-5000)\"]\n",
    "\n",
    "# Add Size Bins column to the dataset\n",
    "mydata[\"Size Bins\"] = pd.cut(mydata[\"size\"], size_bins, labels=size_group_names)\n",
    "\n",
    "# [Dataframe 1] Group by Size Bins and calculated metrics\n",
    "sizebinSummary = mydata.groupby('Size Bins').agg({\n",
    "    'Student ID':'count',\n",
    "    'math_score':'mean',\n",
    "    'reading_score':'mean'\n",
    "})\n",
    "\n",
    "# [Series 1] Calc Percent passed in math and create a series with school name and percent passed\n",
    "sizebinschMathPass = mydata[mydata['math_score']>=70].groupby(['Size Bins']).count()\n",
    "sizebinschMathPass = sizebinschMathPass[\"math_score\"]\n",
    "\n",
    "# [Series 2] Calc Percent passed in reading and create a series with school name and percent passed\n",
    "sizebinschReadPass = mydata[mydata['reading_score']>=70].groupby(['Size Bins']).count()\n",
    "sizebinschReadPass = sizebinschReadPass[\"reading_score\"]\n",
    "\n",
    "# Combine [Dataframe 1], [Series 1] and [Series 2] into one Dataframe\n",
    "sizebinpreResults = pd.merge(sizebinSummary, sizebinschMathPass, on='Size Bins')\n",
    "sizebinResults = pd.merge(sizebinpreResults, sizebinschReadPass, on='Size Bins')\n",
    "sizebinResults['math_score_y'] = (sizebinResults[\"math_score_y\"]/sizebinResults[\"Student ID\"]) *100\n",
    "sizebinResults['reading_score_y'] = (sizebinResults[\"reading_score_y\"]/sizebinResults[\"Student ID\"]) * 100\n",
    "\n",
    "# Rename columns and create overall pass rate\n",
    "sizebinResults.columns = ['Student ID','Average Math Score',\n",
    "                     'Average Reading Score','% Passing Math', '% Passing Reading']\n",
    "sizebinResults['% Overall Passing Rate'] = (sizebinResults['% Passing Math'] + sizebinResults['% Passing Reading'])/2\n",
    "\n",
    "# Set index name\n",
    "sizebinResults.index.name=\"School Size\"\n",
    "\n",
    "# Rearrange columns\n",
    "sizebinResults = sizebinResults[['Average Math Score','Average Reading Score','% Passing Math', '% Passing Reading', '% Overall Passing Rate']]\n",
    "sizebinResults"
   ]
  },
  {
   "cell_type": "markdown",
   "metadata": {},
   "source": [
    "# Scores by School Type"
   ]
  },
  {
   "cell_type": "code",
   "execution_count": null,
   "metadata": {},
   "outputs": [],
   "source": [
    "# [Dataframe 1] Group by School Type and calculated metrics\n",
    "schTypeSummary = mydata.groupby(\n",
    "   ['type']\n",
    ").agg(\n",
    "    {\n",
    "         'Student ID':'count',\n",
    "         'math_score': 'mean',\n",
    "         'reading_score': 'mean'        \n",
    "    }\n",
    ")\n",
    "\n",
    "# [Series 1] Calc Percent passed in math and create a series with school name and percent passed\n",
    "schTypeMathPass = mydata[mydata['math_score']>=70].groupby(['type']).count()\n",
    "schTypeMathPass = schTypeMathPass[\"math_score\"]\n",
    "\n",
    "# [Series 2] Calc Percent passed in reading and create a series with school name and percent passed\n",
    "schTypeReadPass = mydata[mydata['reading_score']>=70].groupby(['type']).count()\n",
    "schTypeReadPass = schTypeReadPass[\"reading_score\"]\n",
    "\n",
    "# Combine [Dataframe 1], [Series 1] and [Series 2] into one Dataframe\n",
    "schTypepreResults = pd.merge(schTypeSummary, schTypeMathPass, on='type')\n",
    "schTypeResults = pd.merge(schTypepreResults, schTypeReadPass, on='type')\n",
    "schTypeResults['math_score_y'] = (schTypeResults[\"math_score_y\"]/schTypeResults[\"Student ID\"]) *100\n",
    "schTypeResults['reading_score_y'] = (schTypeResults[\"reading_score_y\"]/schTypeResults[\"Student ID\"]) * 100\n",
    "\n",
    "# Rename columns\n",
    "schTypeResults.columns = ['Total Students','Average Math Score',\n",
    "                     'Average Reading Score','% Passing Math', '% Passing Reading']\n",
    "\n",
    "# Add overall Pass Rate\n",
    "schTypeResults['% Overall Passing Rate'] = (schTypeResults['% Passing Math'] + schTypeResults['% Passing Reading'])/2\n",
    "\n",
    "# Reorder columns\n",
    "schTypeResults=schTypeResults[['Average Math Score','Average Reading Score','% Passing Math', \n",
    "                            '% Passing Reading', '% Overall Passing Rate']]\n",
    "# Set index name\n",
    "schTypeResults.index.name=\"School Type\"\n",
    "schTypeResults"
   ]
  }
 ],
 "metadata": {
  "kernelspec": {
   "display_name": "Python 3",
   "language": "python",
   "name": "python3"
  },
  "language_info": {
   "codemirror_mode": {
    "name": "ipython",
    "version": 3
   },
   "file_extension": ".py",
   "mimetype": "text/x-python",
   "name": "python",
   "nbconvert_exporter": "python",
   "pygments_lexer": "ipython3",
   "version": "3.7.3"
  }
 },
 "nbformat": 4,
 "nbformat_minor": 2
}
